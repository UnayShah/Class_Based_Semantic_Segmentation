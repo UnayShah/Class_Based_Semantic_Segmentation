{
  "nbformat": 4,
  "nbformat_minor": 0,
  "metadata": {
    "colab": {
      "provenance": [],
      "gpuType": "T4"
    },
    "kernelspec": {
      "name": "python3",
      "display_name": "Python 3"
    },
    "language_info": {
      "name": "python"
    },
    "accelerator": "GPU"
  },
  "cells": [
    {
      "cell_type": "code",
      "execution_count": 1,
      "metadata": {
        "colab": {
          "base_uri": "https://localhost:8080/"
        },
        "id": "I5_78XPO0xag",
        "outputId": "617ec1b6-35a9-4ab9-acac-68f0277a9bd8"
      },
      "outputs": [
        {
          "output_type": "stream",
          "name": "stdout",
          "text": [
            "Initialized empty Git repository in /content/.git/\n",
            "remote: Enumerating objects: 450, done.\u001b[K\n",
            "remote: Counting objects: 100% (40/40), done.\u001b[K\n",
            "remote: Compressing objects: 100% (35/35), done.\u001b[K\n",
            "remote: Total 450 (delta 36), reused 5 (delta 5), pack-reused 410\u001b[K\n",
            "Receiving objects: 100% (450/450), 211.02 MiB | 19.95 MiB/s, done.\n",
            "Resolving deltas: 100% (168/168), done.\n",
            "From https://github.com/UnayShah/Class_Based_Semantic_Segmentation\n",
            " * branch            master     -> FETCH_HEAD\n",
            " * [new branch]      master     -> origin/master\n",
            "Updating files: 100% (160/160), done.\n"
          ]
        }
      ],
      "source": [
        "!git init\n",
        "!git remote add origin https://github.com/UnayShah/Class_Based_Semantic_Segmentation.git\n",
        "!git pull origin master"
      ]
    },
    {
      "cell_type": "code",
      "source": [
        "%run main.py -images_path './datasets/citys/leftImg8bit/test/mainz' \\\n",
        "  -road './style_transfer/models/changed_model_2_udnie_trained_model.model' \\\n",
        "  -sky '/content/style_transfer/models/changed_model_2_starry_night_trained_model.model'\\\n",
        "  -building '/content/style_transfer/models/changed_model_2_mosaic_trained_model.model' \\\n",
        "  -car '/content/style_transfer/models/changed_model_2_The_Persistence_of_Memory_trained_model.model'\\\n",
        "  -sidewalk '/content/style_transfer/models/changed_model_2_candy_trained_model.model'"
      ],
      "metadata": {
        "colab": {
          "base_uri": "https://localhost:8080/"
        },
        "id": "qvBd-cy206yj",
        "outputId": "81ec3d51-2c27-4898-c972-39e7860995b4"
      },
      "execution_count": 4,
      "outputs": [
        {
          "output_type": "stream",
          "name": "stdout",
          "text": [
            "Using modified transformer with residual of 64\n",
            "Using modified transformer with residual of 64\n",
            "Using modified transformer with residual of 64\n",
            "Using modified transformer with residual of 64\n",
            "Using modified transformer with residual of 64\n"
          ]
        },
        {
          "output_type": "stream",
          "name": "stderr",
          "text": [
            "100%|██████████| 5/5 [00:26<00:00,  5.40s/it]\n"
          ]
        }
      ]
    }
  ]
}